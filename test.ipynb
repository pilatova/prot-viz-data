{
  "nbformat": 4,
  "nbformat_minor": 0,
  "metadata": {
    "colab": {
      "provenance": [],
      "include_colab_link": true
    },
    "kernelspec": {
      "name": "python3",
      "display_name": "Python 3"
    },
    "language_info": {
      "name": "python"
    }
  },
  "cells": [
    {
      "cell_type": "markdown",
      "metadata": {
        "id": "view-in-github",
        "colab_type": "text"
      },
      "source": [
        "<a href=\"https://colab.research.google.com/github/pilatova/prot-viz-data/blob/test/test.ipynb\" target=\"_parent\"><img src=\"https://colab.research.google.com/assets/colab-badge.svg\" alt=\"Open In Colab\"/></a>"
      ]
    },
    {
      "cell_type": "code",
      "execution_count": 1,
      "metadata": {
        "id": "zkTcxmuTf8Xl",
        "colab": {
          "base_uri": "https://localhost:8080/"
        },
        "outputId": "3bed4fed-c020-4ab7-8c5b-566b236a0d2e"
      },
      "outputs": [
        {
          "output_type": "stream",
          "name": "stdout",
          "text": [
            "            human-baboon  human-cow  human-dog  human-mouse  human-opossum  \\\n",
            "protein_id                                                                   \n",
            "A0A087WTH1      0.029031   0.154998   0.110481     0.196955       0.344118   \n",
            "A0A087WZ39      0.103670   0.377518   0.391924     0.578767       0.941801   \n",
            "A0A096LP49      0.160867   0.640212   0.633581     0.685461       2.314668   \n",
            "A0A0U1RRA0      0.016778   0.143482   0.109374     0.167911       0.544500   \n",
            "A0A126GWI2      0.061848   0.209570   0.176613     0.199606       0.276475   \n",
            "\n",
            "            baboon-cow  baboon-dog  baboon-mouse  baboon-opossum   cow-dog  \\\n",
            "protein_id                                                                   \n",
            "A0A087WTH1    0.144013    0.109375      0.232052        0.385447  0.138486   \n",
            "A0A087WZ39    0.453725    0.498146      0.613333        1.076725  0.406620   \n",
            "A0A096LP49    0.667860    0.642229      0.718148        2.226590  0.552318   \n",
            "A0A0U1RRA0    0.162434    0.128345      0.148527        0.536199  0.088828   \n",
            "A0A126GWI2    0.206727    0.171825      0.195499        0.269331  0.161940   \n",
            "\n",
            "            cow-mouse  cow-opossum  dog-mouse  dog-opossum  mouse-opossum  \n",
            "protein_id                                                                 \n",
            "A0A087WTH1   0.217262     0.389459   0.192162     0.368851       0.437878  \n",
            "A0A087WZ39   0.474470     0.844741   0.525629     0.926316       1.071503  \n",
            "A0A096LP49   0.822833     2.328829   0.775940     2.277628       2.473843  \n",
            "A0A0U1RRA0   0.183459     0.661912   0.089641     0.556196       0.551611  \n",
            "A0A126GWI2   0.212899     0.259762   0.185132     0.232008       0.252956  \n"
          ]
        }
      ],
      "source": [
        "import pandas as pd\n",
        "\n",
        "url = \"https://raw.githubusercontent.com/pilatova/prot-viz-data/test/dist2.tsv\"\n",
        "\n",
        "dist = pd.read_csv(\n",
        "    url,\n",
        "    sep='\\t',           # Tab separator for TSV files\n",
        "    header=0,           # Use the first row as headers\n",
        "    index_col=0         # Set the first column (\"protein_id\") as the index\n",
        ")\n",
        "\n",
        "print(dist.head())"
      ]
    }
  ]
}